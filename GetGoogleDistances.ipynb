{
 "cells": [
  {
   "cell_type": "code",
   "execution_count": null,
   "id": "81a9ce71-6ca8-4e20-979f-6109dbf72a1d",
   "metadata": {},
   "outputs": [],
   "source": [
    "import gspread\n",
    "import pandas as pd\n",
    "import requests\n",
    "import geopy.distance\n",
    "import numpy as np\n",
    "from datetime import timedelta\n",
    "import time\n",
    "import json\n",
    "from itertools import chain"
   ]
  },
  {
   "cell_type": "code",
   "execution_count": null,
   "id": "68f16ccf-1582-4c13-8607-86a4051710f1",
   "metadata": {},
   "outputs": [],
   "source": [
    "gc = gspread.oauth()"
   ]
  },
  {
   "cell_type": "code",
   "execution_count": null,
   "id": "b1712df4-e2d9-45a6-80e1-0ff76b481963",
   "metadata": {},
   "outputs": [],
   "source": [
    "sh = gc.open_by_key('1bKaLOU0vsS114xZVPG8bRNQT2lWiPsqj7HJ7N53z4FM')"
   ]
  },
  {
   "cell_type": "code",
   "execution_count": null,
   "id": "048e6c76-f1e9-46c8-8033-71fc34b29b86",
   "metadata": {},
   "outputs": [],
   "source": [
    "ws = sh.worksheet(\"Página1\")"
   ]
  },
  {
   "cell_type": "code",
   "execution_count": null,
   "id": "b59bd9a1-2bb8-4fb0-95b1-157137202007",
   "metadata": {},
   "outputs": [],
   "source": [
    "df = pd.DataFrame(ws.get_all_records())"
   ]
  },
  {
   "cell_type": "code",
   "execution_count": null,
   "id": "deb7f301-7ae1-445d-93d0-acfaedf8381f",
   "metadata": {},
   "outputs": [],
   "source": [
    "df['Latitude'] = df['Latitude'].astype(\"string\")\n",
    "df['Longitude'] = df['Longitude'].astype(\"string\")"
   ]
  },
  {
   "cell_type": "code",
   "execution_count": null,
   "id": "f420a4f9-f908-4f9f-a598-45cac6c59472",
   "metadata": {},
   "outputs": [],
   "source": [
    "df['Latitude'] = df['Latitude'].replace(\"@\", \".\", regex=True)\n",
    "df['Longitude'] = df['Longitude'].replace(\"@\", \".\", regex=True)"
   ]
  },
  {
   "cell_type": "code",
   "execution_count": null,
   "id": "313a5a0c-0b6c-4ec2-b00c-026ba83bed60",
   "metadata": {},
   "outputs": [],
   "source": [
    "exluirLinhas = df[df['Longitude']=='NULL'].index\n",
    "df=df.drop(exluirLinhas)\n",
    "exluirLinhas = df[df['Latitude']=='NULL'].index\n",
    "df=df.drop(exluirLinhas)"
   ]
  },
  {
   "cell_type": "code",
   "execution_count": null,
   "id": "30bee243-c93f-403d-807f-7b0be370c874",
   "metadata": {},
   "outputs": [],
   "source": [
    "df.dtypes"
   ]
  },
  {
   "cell_type": "code",
   "execution_count": null,
   "id": "c3ae8c84-dba3-46aa-bf42-dfff6bc854f4",
   "metadata": {},
   "outputs": [],
   "source": [
    "df.head()"
   ]
  },
  {
   "cell_type": "code",
   "execution_count": null,
   "id": "ffdbdae8-4e20-48ac-8950-9cda8d19f21b",
   "metadata": {},
   "outputs": [],
   "source": [
    "df_directions = df[['NumeroSerie','Latitude','Longitude']].drop_duplicates()"
   ]
  },
  {
   "cell_type": "code",
   "execution_count": null,
   "id": "a5865bc4-78af-4c55-a927-433d961605f7",
   "metadata": {
    "tags": []
   },
   "outputs": [],
   "source": [
    "listagem_base = df_directions.values.tolist()\n",
    "listagem_base"
   ]
  },
  {
   "cell_type": "code",
   "execution_count": null,
   "id": "0a0deacf-65d9-49f1-b1bd-74f52cdee2a8",
   "metadata": {},
   "outputs": [],
   "source": [
    "df_gold=[]\n",
    "list_infos=[]"
   ]
  },
  {
   "cell_type": "markdown",
   "id": "05f8536b-ff05-4365-90bd-d0b3257b08f7",
   "metadata": {},
   "source": [
    "#API GOOGLE\n",
    "#Como pegar dados do google api \n",
    "url = \"https://maps.googleapis.com/maps/api/distancematrix/json?origins=45.7597%2C4.8422&destinations=48.8567%2C2.3508&key=\"\n",
    "\n",
    "payload={}\n",
    "headers = {}\n",
    "\n",
    "response = requests.request(\"GET\", url, headers=headers, data=payload)\n",
    "\n",
    "res_json = (response.text)\n",
    "res_final = json.loads(res_json)\n",
    "\n",
    "EnderecoDestino = res_final['destination_addresses'][0]\n",
    "EnderecoOrigem = res_final['origin_addresses'][0]\n",
    "Distance_text = res_final[\"rows\"][0]['elements'][0]['distance']['text']\n",
    "Distance_value = res_final[\"rows\"][0]['elements'][0]['distance']['value']\n",
    "durantion_text = res_final[\"rows\"][0]['elements'][0]['duration']['text']\n",
    "durantion_value = res_final[\"rows\"][0]['elements'][0]['duration']['value']\n",
    "\n",
    "print(EnderecoDestino)\n",
    "print(EnderecoOrigem)\n",
    "print(Distance_text)\n",
    "print(Distance_value)\n",
    "print(durantion_text)\n",
    "print(durantion_value)\n",
    "\n",
    "list_infos = [EnderecoDestino,EnderecoOrigem,Distance_text,Distance_value,durantion_text,durantion_value]\n",
    "\n",
    "print(list_infos)"
   ]
  },
  {
   "cell_type": "code",
   "execution_count": null,
   "id": "52f04729-8dd8-4991-9a85-5204bd275cac",
   "metadata": {
    "tags": []
   },
   "outputs": [],
   "source": [
    "#API GOOGLE\n",
    "def buscaGoogle(geoOrigem,geoDestino):\n",
    "    \n",
    "    print(\"Sera tratado origem: \"+str(geoOrigem))\n",
    "    print(\"Sera tratado destino: \"+str(geoDestino))\n",
    "    \n",
    "    list_infos = []\n",
    "    \n",
    "    url = \"https://maps.googleapis.com/maps/api/distancematrix/json?origins=\"+geoOrigem[0]+\"%2C\"+geoOrigem[1]+\"&destinations=\"+geoDestino[0]+\"%2C\"+geoDestino[1]+\"&key=\"\n",
    "    payload={}\n",
    "    headers = {}\n",
    "    \n",
    "    response = requests.request(\"GET\", url, headers=headers, data=payload)\n",
    "    \n",
    "    res_json = (response.text)\n",
    "    res_final = json.loads(res_json)\n",
    "    \n",
    "    verifica_status = res_final[\"rows\"][0]['elements'][0]['status']\n",
    "    \n",
    "    print(verifica_status)\n",
    "    \n",
    "    print(res_final)\n",
    "    print(\"\\n-------------------\")\n",
    "\n",
    "    EnderecoDestino = res_final['destination_addresses'][0]\n",
    "    EnderecoOrigem = res_final['origin_addresses'][0]\n",
    "    Distance_text = res_final[\"rows\"][0]['elements'][0]['distance']['text']\n",
    "    Distance_value = res_final[\"rows\"][0]['elements'][0]['distance']['value']\n",
    "    durantion_text = res_final[\"rows\"][0]['elements'][0]['duration']['text']\n",
    "    durantion_value = res_final[\"rows\"][0]['elements'][0]['duration']['value']\n",
    "    \n",
    "    list_infos = [EnderecoDestino,EnderecoOrigem,Distance_text,Distance_value,durantion_text,durantion_value]\n",
    "    \n",
    "    #time.sleep(1)\n",
    "    \n",
    "    return list_infos"
   ]
  },
  {
   "cell_type": "code",
   "execution_count": null,
   "id": "da1ec741-a0d4-47fe-8ee0-9dd259a64a03",
   "metadata": {
    "tags": []
   },
   "outputs": [],
   "source": [
    "def CalcListagem(radar, lat,long):\n",
    "    for i in listagem_base:\n",
    "        if i[0] != radar:\n",
    "            geoOrigem=[lat,long]\n",
    "            geoDestino=[i[1],i[2]]\n",
    "            dis = buscaGoogle(geoOrigem,geoDestino)\n",
    "            if dis != 0 and dis is not None:\n",
    "                df_gold.append(\n",
    "                    {\n",
    "                        'RadarBase': radar,\n",
    "                        'LatitudeBase': lat,\n",
    "                        'LongitudeBase':  long,\n",
    "                        'RadarComparacao':i[0],\n",
    "                        'LatitudeComparacao':i[1],\n",
    "                        'LongitudeComparacao':i[2],\n",
    "                        'EnderecoDestino':dis[0],\n",
    "                        'EnderecoOrigem':dis[1],\n",
    "                        'DistanciaTexto':dis[2],\n",
    "                        'Distanciavalor':dis[3],\n",
    "                        'DuracaoTexto':dis[4],\n",
    "                        'DuracaovAlor':dis[5]\n",
    "                    }\n",
    "                            )\n",
    "                #print(\"RadarBase: \"+str(df_gold))\n",
    "                #print(\"\\n\")\n",
    "    return True"
   ]
  },
  {
   "cell_type": "code",
   "execution_count": null,
   "id": "73047540-fcf0-46ce-a8c0-eeef1c5c7cb4",
   "metadata": {
    "tags": []
   },
   "outputs": [],
   "source": [
    "df_gold"
   ]
  },
  {
   "cell_type": "code",
   "execution_count": null,
   "id": "372fcab9-026c-43ab-89d4-e51407a6b7d7",
   "metadata": {
    "tags": []
   },
   "outputs": [],
   "source": [
    "for x in listagem_base:\n",
    "    print(x)\n",
    "    \n",
    "    CalcListagem(x[0],x[1],x[2])\n",
    "        \n",
    "df_directions_Gold = pd.DataFrame(df_gold)"
   ]
  },
  {
   "cell_type": "code",
   "execution_count": null,
   "id": "d861ee1e-3de1-42cf-a752-90f298e01ca5",
   "metadata": {
    "tags": []
   },
   "outputs": [],
   "source": [
    "df_directions_Gold = pd.DataFrame(df_gold)\n",
    "df_directions_Gold"
   ]
  },
  {
   "cell_type": "code",
   "execution_count": null,
   "id": "d6113721-a69e-4142-9fa7-900b1d9a6cb9",
   "metadata": {},
   "outputs": [],
   "source": [
    "df_realizado = df_directions_Gold[['RadarBase','LatitudeBase','LongitudeBase','RadarComparacao','LatitudeComparacao','LongitudeComparacao']]\n",
    "\n",
    "listagem_realizado = df_realizado.values.tolist()"
   ]
  },
  {
   "cell_type": "code",
   "execution_count": null,
   "id": "03e702cd-4c24-49e5-9fbc-93f531c2a06c",
   "metadata": {
    "tags": []
   },
   "outputs": [],
   "source": [
    "for base in listagem_realizado:\n",
    "    if base[3]== 'BRI1286':\n",
    "        \n",
    "        print(base)\n",
    "        print(base[0])\n",
    "        print(base[3])"
   ]
  },
  {
   "cell_type": "code",
   "execution_count": null,
   "id": "90f7e74e-9383-40cc-9ba0-932b5ca2a45f",
   "metadata": {
    "tags": []
   },
   "outputs": [],
   "source": [
    "df_gold2=[]"
   ]
  },
  {
   "cell_type": "code",
   "execution_count": null,
   "id": "ba5085ff-63de-4e2f-8707-dced7aceca70",
   "metadata": {
    "tags": []
   },
   "outputs": [],
   "source": [
    "def CalcListagem_fase2(radar, lat,long):\n",
    "    for i in listagem_base:\n",
    "        contador=0\n",
    "        if i[0] != radar:\n",
    "            for real in listagem_realizado:           \n",
    "                if radar == real[0] and i[0] ==real[3]:\n",
    "                    print(str(radar)+\" e \"+str(i[0]))\n",
    "                    #print(\"Já foi inserido na lista\")\n",
    "                    contador=1\n",
    "            if contador == 0:\n",
    "                print(\"Não está na listagem, puxando do google\")\n",
    "                geoOrigem=[lat,long]\n",
    "                geoDestino=[i[1],i[2]]\n",
    "\n",
    "                dis = buscaGoogle(geoOrigem,geoDestino)\n",
    "                if dis != 0 and dis is not None:\n",
    "                    df_gold2.append(\n",
    "                        {\n",
    "                            'RadarBase': radar,\n",
    "                            'LatitudeBase': lat,\n",
    "                            'LongitudeBase':  long,\n",
    "                            'RadarComparacao':i[0],\n",
    "                            'LatitudeComparacao':i[1],\n",
    "                            'LongitudeComparacao':i[2],\n",
    "                            'EnderecoDestino':dis[0],\n",
    "                            'EnderecoOrigem':dis[1],\n",
    "                            'DistanciaTexto':dis[2],\n",
    "                            'Distanciavalor':dis[3],\n",
    "                            'DuracaoTexto':dis[4],\n",
    "                            'DuracaovAlor':dis[5]\n",
    "                        }\n",
    "                                )\n",
    "    return True"
   ]
  },
  {
   "cell_type": "code",
   "execution_count": null,
   "id": "2d750391-477a-46b3-9bf2-652266396545",
   "metadata": {
    "tags": []
   },
   "outputs": [],
   "source": [
    "for x in listagem_base:\n",
    "    CalcListagem_fase2(x[0],x[1],x[2])\n",
    "        \n",
    "df_directions_Gold2 = pd.DataFrame(df_gold2)"
   ]
  },
  {
   "cell_type": "code",
   "execution_count": null,
   "id": "1a76871f-c4da-4f88-bcc6-d2998e1e73ff",
   "metadata": {},
   "outputs": [],
   "source": [
    "df_directions_Gold2 = pd.DataFrame(df_gold2)"
   ]
  },
  {
   "cell_type": "code",
   "execution_count": null,
   "id": "11eac80b-fab7-4d4b-b37a-92707bc46fe1",
   "metadata": {
    "tags": []
   },
   "outputs": [],
   "source": [
    "df_directions_Gold2.info()"
   ]
  },
  {
   "cell_type": "code",
   "execution_count": null,
   "id": "e5b4dbf4-fab2-40d1-9845-8d913a5d83dd",
   "metadata": {
    "tags": []
   },
   "outputs": [],
   "source": [
    "df_directions_Gold2"
   ]
  },
  {
   "cell_type": "code",
   "execution_count": null,
   "id": "bd659c0c-0c75-43a5-bbe7-be416a6ef994",
   "metadata": {},
   "outputs": [],
   "source": [
    "frames = [result, df_directions_Gold2]\n",
    "\n",
    "df_final = pd.concat(frames)"
   ]
  },
  {
   "cell_type": "code",
   "execution_count": null,
   "id": "6521e654-13ec-45dc-a8b3-84400eca648a",
   "metadata": {
    "tags": []
   },
   "outputs": [],
   "source": [
    "df_final.drop_duplicates()"
   ]
  },
  {
   "cell_type": "code",
   "execution_count": null,
   "id": "042a213d-06f0-4e8c-a354-1c40e904abd6",
   "metadata": {
    "tags": []
   },
   "outputs": [],
   "source": [
    "result.drop_duplicates()"
   ]
  },
  {
   "cell_type": "code",
   "execution_count": null,
   "id": "a4c443cb-5fd1-47b4-ab7f-7af4e2021087",
   "metadata": {},
   "outputs": [],
   "source": [
    "df_realizado = result[['RadarBase','LatitudeBase','LongitudeBase','RadarComparacao','LatitudeComparacao','LongitudeComparacao']]\n",
    "\n",
    "listagem_realizado = df_realizado.values.tolist()"
   ]
  },
  {
   "cell_type": "code",
   "execution_count": null,
   "id": "77c720e2-f42a-4d0f-a46d-dee6495887af",
   "metadata": {
    "tags": []
   },
   "outputs": [],
   "source": [
    "df_realizado"
   ]
  },
  {
   "cell_type": "code",
   "execution_count": null,
   "id": "f9d0525b-b9d7-4759-88ef-1e35dd256b7d",
   "metadata": {},
   "outputs": [],
   "source": [
    "df_final.info()"
   ]
  },
  {
   "cell_type": "code",
   "execution_count": null,
   "id": "3f50c88d-aee9-4cd6-bed9-bc871bd316a6",
   "metadata": {},
   "outputs": [],
   "source": [
    "df_final.to_csv('bh_trans_distancias_google.csv', sep=';',encoding='utf-8')"
   ]
  },
  {
   "cell_type": "code",
   "execution_count": null,
   "id": "9de39d91-5451-48f7-99bf-b55dc3dd904a",
   "metadata": {},
   "outputs": [],
   "source": []
  }
 ],
 "metadata": {
  "kernelspec": {
   "display_name": "Python 3 (ipykernel)",
   "language": "python",
   "name": "python3"
  },
  "language_info": {
   "codemirror_mode": {
    "name": "ipython",
    "version": 3
   },
   "file_extension": ".py",
   "mimetype": "text/x-python",
   "name": "python",
   "nbconvert_exporter": "python",
   "pygments_lexer": "ipython3",
   "version": "3.10.0"
  }
 },
 "nbformat": 4,
 "nbformat_minor": 5
}
